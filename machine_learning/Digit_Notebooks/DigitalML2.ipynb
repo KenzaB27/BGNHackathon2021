{
  "nbformat": 4,
  "nbformat_minor": 0,
  "metadata": {
    "colab": {
      "name": "DigitalML2.ipynb",
      "provenance": []
    },
    "kernelspec": {
      "name": "python3",
      "display_name": "Python 3"
    },
    "accelerator": "GPU"
  },
  "cells": [
    {
      "cell_type": "markdown",
      "metadata": {
        "id": "Sor2Yp4k1Rqp"
      },
      "source": [
        "#  Digit Machine Learning Model\r\n",
        "\r\n",
        "This notebook aims to create a working NN model that can correctly determine digits from the ASL sets.\r\n",
        "\r\n",
        "The dataset used in this project is a combination of 2 datasets:\r\n",
        "\r\n",
        "Dataset 1: https://www.kaggle.com/ayuraj/asl-dataset\r\n",
        "\r\n",
        "Dataset 2: https://github.com/ardamavi/Sign-Language-Digits-Dataset\r\n",
        "\r\n",
        "First setp is to download our data from kaggle and clone the data from the github repo"
      ]
    },
    {
      "cell_type": "code",
      "metadata": {
        "id": "YSmLVnYl7wLt"
      },
      "source": [
        "! pip install -q kaggle"
      ],
      "execution_count": 1,
      "outputs": []
    },
    {
      "cell_type": "code",
      "metadata": {
        "colab": {
          "resources": {
            "http://localhost:8080/nbextensions/google.colab/files.js": {
              "data": "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",
              "ok": true,
              "headers": [
                [
                  "content-type",
                  "application/javascript"
                ]
              ],
              "status": 200,
              "status_text": ""
            }
          },
          "base_uri": "https://localhost:8080/",
          "height": 89
        },
        "id": "6_wvP8Lx8VV2",
        "outputId": "0a5c9d48-1d4b-4764-b181-cea1c6384e6f"
      },
      "source": [
        "## Upload kaggle API file\r\n",
        "from google.colab import files\r\n",
        "files.upload()"
      ],
      "execution_count": 2,
      "outputs": [
        {
          "output_type": "display_data",
          "data": {
            "text/html": [
              "\n",
              "     <input type=\"file\" id=\"files-11267db7-8645-467d-a16b-a36dfde9a1df\" name=\"files[]\" multiple disabled\n",
              "        style=\"border:none\" />\n",
              "     <output id=\"result-11267db7-8645-467d-a16b-a36dfde9a1df\">\n",
              "      Upload widget is only available when the cell has been executed in the\n",
              "      current browser session. Please rerun this cell to enable.\n",
              "      </output>\n",
              "      <script src=\"/nbextensions/google.colab/files.js\"></script> "
            ],
            "text/plain": [
              "<IPython.core.display.HTML object>"
            ]
          },
          "metadata": {
            "tags": []
          }
        },
        {
          "output_type": "stream",
          "text": [
            "Saving kaggle.json to kaggle.json\n"
          ],
          "name": "stdout"
        },
        {
          "output_type": "execute_result",
          "data": {
            "text/plain": [
              "{'kaggle.json': b'{\"username\":\"quintessence18\",\"key\":\"6f841359e2a88391f87f96d17c915010\"}'}"
            ]
          },
          "metadata": {
            "tags": []
          },
          "execution_count": 2
        }
      ]
    },
    {
      "cell_type": "code",
      "metadata": {
        "id": "XqMMQSfppnJV"
      },
      "source": [
        "! mkdir ~/.kaggle\r\n",
        "! cp kaggle.json ~/.kaggle/"
      ],
      "execution_count": 3,
      "outputs": []
    },
    {
      "cell_type": "code",
      "metadata": {
        "id": "pK9arqxypnLG"
      },
      "source": [
        "! chmod 600 ~/.kaggle/kaggle.json"
      ],
      "execution_count": 4,
      "outputs": []
    },
    {
      "cell_type": "code",
      "metadata": {
        "colab": {
          "base_uri": "https://localhost:8080/"
        },
        "id": "f1h_h9vD8NHj",
        "outputId": "a38893b7-96c8-4705-8cb9-8dd86df35388"
      },
      "source": [
        "# Download Kaggle Dataset\r\n",
        "!kaggle datasets download -d ayuraj/asl-dataset"
      ],
      "execution_count": 22,
      "outputs": [
        {
          "output_type": "stream",
          "text": [
            "Downloading asl-dataset.zip to /content\n",
            " 76% 43.0M/56.9M [00:00<00:00, 56.1MB/s]\n",
            "100% 56.9M/56.9M [00:00<00:00, 97.0MB/s]\n"
          ],
          "name": "stdout"
        }
      ]
    },
    {
      "cell_type": "code",
      "metadata": {
        "id": "DzAy9gxt8NLi"
      },
      "source": [
        "!unzip \\*.zip && rm *.zip"
      ],
      "execution_count": null,
      "outputs": []
    },
    {
      "cell_type": "markdown",
      "metadata": {
        "id": "GKJKQU48ubPJ"
      },
      "source": [
        "###Get other data from github"
      ]
    },
    {
      "cell_type": "code",
      "metadata": {
        "colab": {
          "base_uri": "https://localhost:8080/"
        },
        "id": "nMw7bOkMuDP_",
        "outputId": "76c3ee16-07b4-40ce-ce70-5098b56b1e9a"
      },
      "source": [
        "!git clone https://github.com/ardamavi/Sign-Language-Digits-Dataset.git"
      ],
      "execution_count": 81,
      "outputs": [
        {
          "output_type": "stream",
          "text": [
            "Cloning into 'Sign-Language-Digits-Dataset'...\n",
            "remote: Enumerating objects: 2089, done.\u001b[K\n",
            "remote: Total 2089 (delta 0), reused 0 (delta 0), pack-reused 2089\u001b[K\n",
            "Receiving objects: 100% (2089/2089), 15.07 MiB | 32.41 MiB/s, done.\n",
            "Resolving deltas: 100% (658/658), done.\n"
          ],
          "name": "stdout"
        }
      ]
    },
    {
      "cell_type": "markdown",
      "metadata": {
        "id": "ja10VSx7stdm"
      },
      "source": [
        "## Quick file and Dataset Organising\r\n",
        "\r\n",
        "For the asl_dataset: Let's move all alphabet pictures to the unknown folder and delete any empty files\r\n",
        "\r\n",
        "\r\n",
        "For the Sing-Language-Digits-Dataset: Let's move all digits to the asl_dataset and delete any empty files"
      ]
    },
    {
      "cell_type": "code",
      "metadata": {
        "id": "Ip3buUpJ8NOV"
      },
      "source": [
        "import shutil"
      ],
      "execution_count": 24,
      "outputs": []
    },
    {
      "cell_type": "code",
      "metadata": {
        "id": "zgib-uEv8NQz"
      },
      "source": [
        "#Add comment here\r\n",
        "# Add all letters into a letter's folder and delete them - this model is only working with digits\r\n",
        "shutil.rmtree('/content/asl_dataset/unknown/z')"
      ],
      "execution_count": 80,
      "outputs": []
    },
    {
      "cell_type": "code",
      "metadata": {
        "id": "f9Mcbvioq_hv"
      },
      "source": [
        "src = '/content/Sign-Language-Digits-Dataset/Dataset/9'\r\n",
        "dest = '/content/asl_dataset/9'\r\n",
        "\r\n",
        "files = os.listdir(src)\r\n",
        " \r\n",
        "for f in files:\r\n",
        "    shutil.move(src+\"/\"+ f, dest)"
      ],
      "execution_count": 91,
      "outputs": []
    },
    {
      "cell_type": "markdown",
      "metadata": {
        "id": "uDa6YfKKs3Lt"
      },
      "source": [
        "## Start working with the Data"
      ]
    },
    {
      "cell_type": "code",
      "metadata": {
        "id": "d7wdfU2Eq_j2"
      },
      "source": [
        "import matplotlib.pyplot as plt\r\n",
        "from tqdm import tqdm\r\n",
        "import numpy as np\r\n",
        "import cv2 \r\n",
        "import os"
      ],
      "execution_count": 18,
      "outputs": []
    },
    {
      "cell_type": "code",
      "metadata": {
        "colab": {
          "base_uri": "https://localhost:8080/",
          "height": 268
        },
        "id": "xjBoaXnbrD7w",
        "outputId": "18d1462b-5f0f-4d3c-b5db-c7a09514494e"
      },
      "source": [
        "DATADIR = \"/content/asl_dataset/\"\r\n",
        "CATEGORIES = [\"0\", \"1\", \"2\", \"3\", \"4\", \"5\", \"6\", \"7\", \"8\", \"9\", \"unknown\"]\r\n",
        "\r\n",
        "for category in CATEGORIES:\r\n",
        "    path = os.path.join(DATADIR,category)  # create path to categories\r\n",
        "    for img in os.listdir(path):\r\n",
        "      # iterate over each image\r\n",
        "      # convert to array\r\n",
        "      img_array = cv2.imread(os.path.join(path,img) ,cv2.IMREAD_GRAYSCALE)  \r\n",
        "      plt.imshow(img_array, cmap='gray')  # graph it\r\n",
        "      plt.show()  # display!\r\n",
        "\r\n",
        "      break  # we just want one for now so break\r\n",
        "    break  #...and one more!"
      ],
      "execution_count": 92,
      "outputs": [
        {
          "output_type": "display_data",
          "data": {
            "image/png": "[encoded data removed]",
            "text/plain": [
              "<Figure size 432x288 with 1 Axes>"
            ]
          },
          "metadata": {
            "tags": [],
            "needs_background": "light"
          }
        }
      ]
    },
    {
      "cell_type": "code",
      "metadata": {
        "colab": {
          "base_uri": "https://localhost:8080/",
          "height": 265
        },
        "id": "Ur1fEPBzrECb",
        "outputId": "0fc25191-404c-44ef-db49-68d903359b5e"
      },
      "source": [
        "## We chose a standard size of 28 - this ensures prediction even under terrible quality\r\n",
        "IMG_SIZE = 28\r\n",
        "\r\n",
        "new_array = cv2.resize(img_array, (IMG_SIZE, IMG_SIZE))\r\n",
        "plt.imshow(new_array, cmap='gray')\r\n",
        "plt.show() # Show resize image"
      ],
      "execution_count": 93,
      "outputs": [
        {
          "output_type": "display_data",
          "data": {
            "image/png": "[encoded data removed]",
            "text/plain": [
              "<Figure size 432x288 with 1 Axes>"
            ]
          },
          "metadata": {
            "tags": [],
            "needs_background": "light"
          }
        }
      ]
    },
    {
      "cell_type": "markdown",
      "metadata": {
        "id": "wQ6bTlJHh-ph"
      },
      "source": [
        "##Set Training & Test Data"
      ]
    },
    {
      "cell_type": "code",
      "metadata": {
        "colab": {
          "base_uri": "https://localhost:8080/"
        },
        "id": "5PghdUykh6Nr",
        "outputId": "137d7a5b-c067-4d4b-8f0b-c22fa80c308a"
      },
      "source": [
        "training_data = []\r\n",
        "\r\n",
        "def create_training_data():\r\n",
        "    for category in CATEGORIES:  # do 0,1,2,3, .....\r\n",
        "\r\n",
        "        path = os.path.join(DATADIR,category)  # create path to categories\r\n",
        "        class_num = CATEGORIES.index(category)  # get the classification\r\n",
        "\r\n",
        "        for img in tqdm(os.listdir(path)):  # iterate over each image\r\n",
        "            try:\r\n",
        "                img_array = cv2.imread(os.path.join(path,img) ,cv2.IMREAD_GRAYSCALE)  # convert to array\r\n",
        "                new_array = cv2.resize(img_array, (IMG_SIZE, IMG_SIZE))  # resize to normalize data size\r\n",
        "                training_data.append([new_array, class_num])  # add this to our training_data\r\n",
        "            except Exception as e:  # in the interest in keeping the output clean...\r\n",
        "                pass\r\n",
        "            \r\n",
        "create_training_data() # call function"
      ],
      "execution_count": 94,
      "outputs": [
        {
          "output_type": "stream",
          "text": [
            "100%|██████████| 275/275 [00:00<00:00, 3295.98it/s]\n",
            "100%|██████████| 276/276 [00:00<00:00, 3969.84it/s]\n",
            "100%|██████████| 276/276 [00:00<00:00, 3967.59it/s]\n",
            "100%|██████████| 276/276 [00:00<00:00, 3781.85it/s]\n",
            "100%|██████████| 277/277 [00:00<00:00, 3709.50it/s]\n",
            "100%|██████████| 277/277 [00:00<00:00, 3367.92it/s]\n",
            "100%|██████████| 277/277 [00:00<00:00, 3810.71it/s]\n",
            "100%|██████████| 276/276 [00:00<00:00, 933.62it/s]\n",
            "100%|██████████| 278/278 [00:00<00:00, 3807.35it/s]\n",
            "100%|██████████| 274/274 [00:00<00:00, 3620.15it/s]\n",
            "100%|██████████| 1815/1815 [00:01<00:00, 1607.74it/s]\n"
          ],
          "name": "stderr"
        }
      ]
    },
    {
      "cell_type": "markdown",
      "metadata": {
        "id": "SH1itkXGiJSJ"
      },
      "source": [
        "## Shuffle the files"
      ]
    },
    {
      "cell_type": "code",
      "metadata": {
        "colab": {
          "base_uri": "https://localhost:8080/"
        },
        "id": "ctxqTx5FiIOM",
        "outputId": "3bc671a1-4def-4a0c-a9e0-4f3dbe468aab"
      },
      "source": [
        "import random\r\n",
        "random.shuffle(training_data)\r\n",
        "\r\n",
        "# Check the shuffle\r\n",
        "for sample in training_data[:10]:\r\n",
        "    print(sample[1])\r\n"
      ],
      "execution_count": 95,
      "outputs": [
        {
          "output_type": "stream",
          "text": [
            "10\n",
            "10\n",
            "5\n",
            "0\n",
            "6\n",
            "10\n",
            "10\n",
            "10\n",
            "10\n",
            "10\n"
          ],
          "name": "stdout"
        }
      ]
    },
    {
      "cell_type": "markdown",
      "metadata": {
        "id": "fE3dXSMrigal"
      },
      "source": [
        "## Add the data into an X & Y list\r\n",
        "\r\n",
        "X = features\r\n",
        "\r\n",
        "Y = label"
      ]
    },
    {
      "cell_type": "code",
      "metadata": {
        "id": "_Cep2xMniaWA"
      },
      "source": [
        "X = []\r\n",
        "Y = []\r\n",
        "\r\n",
        "for features,label in training_data:\r\n",
        "    X.append(features)\r\n",
        "    Y.append(label)\r\n",
        "\r\n",
        "print(X[0].reshape(-1, IMG_SIZE, IMG_SIZE, 1))\r\n",
        "\r\n",
        "X = np.array(X).reshape(-1, IMG_SIZE, IMG_SIZE, 1)"
      ],
      "execution_count": null,
      "outputs": []
    },
    {
      "cell_type": "markdown",
      "metadata": {
        "id": "ZtDazyi8ixfY"
      },
      "source": [
        "##Pickle the data"
      ]
    },
    {
      "cell_type": "code",
      "metadata": {
        "id": "-bmhmE9-imBy"
      },
      "source": [
        "import pickle\r\n",
        "\r\n",
        "pickle_out = open(\"/content/Kaggle/Working/X.pickle\",\"wb\")\r\n",
        "pickle.dump(X, pickle_out)\r\n",
        "pickle_out.close()\r\n",
        "\r\n",
        "pickle_out = open(\"/content/Kaggle/Working/Y.pickle\",\"wb\")\r\n",
        "pickle.dump(Y, pickle_out)\r\n",
        "pickle_out.close()"
      ],
      "execution_count": 98,
      "outputs": []
    },
    {
      "cell_type": "code",
      "metadata": {
        "id": "uTnuq8T_j5Bf"
      },
      "source": [
        "import tensorflow as tf\r\n",
        "from tensorflow.keras.datasets import cifar10\r\n",
        "from tensorflow.keras.preprocessing.image import ImageDataGenerator\r\n",
        "from tensorflow.keras.models import Sequential\r\n",
        "from tensorflow.keras.layers import Dense, Dropout, Activation, Flatten\r\n",
        "from tensorflow.keras.layers import Conv2D, MaxPooling2D\r\n",
        "from tensorflow.keras.callbacks import TensorBoard\r\n",
        "import time\r\n",
        "\r\n",
        "import pickle"
      ],
      "execution_count": 99,
      "outputs": []
    },
    {
      "cell_type": "code",
      "metadata": {
        "id": "0cvxgZOLj95p"
      },
      "source": [
        "NAME = \"Numbers-CNN-Model-{}\".format(str(time.ctime())) # Model Name"
      ],
      "execution_count": 100,
      "outputs": []
    },
    {
      "cell_type": "code",
      "metadata": {
        "id": "0urznKLKkDe-"
      },
      "source": [
        "# Load pickel data\r\n",
        "pickle_in = open(\"/content/Kaggle/Working/X.pickle\",\"rb\")\r\n",
        "X = pickle.load(pickle_in)\r\n",
        "X = np.array(X).reshape(-1, IMG_SIZE, IMG_SIZE, 1)\r\n",
        "\r\n",
        "pickle_in = open(\"/content/Kaggle/Working/Y.pickle\",\"rb\")\r\n",
        "Y = pickle.load(pickle_in)\r\n",
        "Y = np.array(Y)\r\n",
        "\r\n",
        "X = X/255.0"
      ],
      "execution_count": 101,
      "outputs": []
    },
    {
      "cell_type": "markdown",
      "metadata": {
        "id": "yzCDxsV1H-q3"
      },
      "source": [
        "## Train the model"
      ]
    },
    {
      "cell_type": "code",
      "metadata": {
        "colab": {
          "base_uri": "https://localhost:8080/"
        },
        "id": "4jKZA6ztkMoy",
        "outputId": "51439fed-1729-497a-f598-206224bfc72e"
      },
      "source": [
        "from tensorflow.keras import Sequential\r\n",
        "from tensorflow.keras.layers import Flatten,Dense,Dropout,MaxPool2D,Conv2D\r\n",
        "\r\n",
        "model = Sequential()\r\n",
        "model.add(Conv2D(32,(3,3),padding = 'same',input_shape=X.shape[1:],activation = 'relu'))\r\n",
        "model.add(MaxPool2D((2,2)))\r\n",
        "\r\n",
        "model.add(Conv2D(64,(3,3),padding = 'same',activation = 'relu'))\r\n",
        "model.add(MaxPool2D((2,2)))\r\n",
        "\r\n",
        "model.add(Conv2D(128,(3,3),padding = 'same',activation = 'relu'))\r\n",
        "model.add(MaxPool2D((2,2)))\r\n",
        "\r\n",
        "model.add(Flatten())\r\n",
        "model.add(Dense(512,activation='relu'))\r\n",
        "model.add(Dense(11,activation=\"softmax\"))\r\n",
        "\r\n",
        "tensorboard = TensorBoard(log_dir=\"/kaggle/working/logs/{}\".format(NAME))\r\n",
        "\r\n",
        "model.compile(loss='sparse_categorical_crossentropy',\r\n",
        "              optimizer='adam',\r\n",
        "              metrics=['accuracy'])\r\n",
        "\r\n",
        "model.fit(X, Y, batch_size=32, epochs=10, validation_split=0.2, callbacks=[tensorboard])"
      ],
      "execution_count": 102,
      "outputs": [
        {
          "output_type": "stream",
          "text": [
            "Epoch 1/10\n",
            "115/115 [==============================] - 34s 15ms/step - loss: 1.8387 - accuracy: 0.4141 - val_loss: 1.2242 - val_accuracy: 0.5972\n",
            "Epoch 2/10\n",
            "115/115 [==============================] - 0s 4ms/step - loss: 1.0912 - accuracy: 0.6017 - val_loss: 0.5142 - val_accuracy: 0.8559\n",
            "Epoch 3/10\n",
            "115/115 [==============================] - 0s 4ms/step - loss: 0.4197 - accuracy: 0.8668 - val_loss: 0.3184 - val_accuracy: 0.8952\n",
            "Epoch 4/10\n",
            "115/115 [==============================] - 0s 4ms/step - loss: 0.2103 - accuracy: 0.9278 - val_loss: 0.2490 - val_accuracy: 0.9203\n",
            "Epoch 5/10\n",
            "115/115 [==============================] - 1s 4ms/step - loss: 0.1429 - accuracy: 0.9507 - val_loss: 0.2331 - val_accuracy: 0.9258\n",
            "Epoch 6/10\n",
            "115/115 [==============================] - 1s 5ms/step - loss: 0.1159 - accuracy: 0.9670 - val_loss: 0.1611 - val_accuracy: 0.9509\n",
            "Epoch 7/10\n",
            "115/115 [==============================] - 0s 4ms/step - loss: 0.0649 - accuracy: 0.9812 - val_loss: 0.1394 - val_accuracy: 0.9607\n",
            "Epoch 8/10\n",
            "115/115 [==============================] - 0s 4ms/step - loss: 0.0511 - accuracy: 0.9837 - val_loss: 0.2041 - val_accuracy: 0.9421\n",
            "Epoch 9/10\n",
            "115/115 [==============================] - 0s 4ms/step - loss: 0.0614 - accuracy: 0.9818 - val_loss: 0.1463 - val_accuracy: 0.9531\n",
            "Epoch 10/10\n",
            "115/115 [==============================] - 1s 4ms/step - loss: 0.0273 - accuracy: 0.9923 - val_loss: 0.1421 - val_accuracy: 0.9618\n"
          ],
          "name": "stdout"
        },
        {
          "output_type": "execute_result",
          "data": {
            "text/plain": [
              "<tensorflow.python.keras.callbacks.History at 0x7f40822ec790>"
            ]
          },
          "metadata": {
            "tags": []
          },
          "execution_count": 102
        }
      ]
    },
    {
      "cell_type": "markdown",
      "metadata": {
        "id": "7GMGWMtK0Z_m"
      },
      "source": [
        "## Model Summary\r\n"
      ]
    },
    {
      "cell_type": "code",
      "metadata": {
        "colab": {
          "base_uri": "https://localhost:8080/"
        },
        "id": "rQtBpnAz0Yl9",
        "outputId": "04949e65-ade4-4c0c-feef-b515920dd5ed"
      },
      "source": [
        "model.summary()"
      ],
      "execution_count": 126,
      "outputs": [
        {
          "output_type": "stream",
          "text": [
            "Model: \"sequential\"\n",
            "_________________________________________________________________\n",
            "Layer (type)                 Output Shape              Param #   \n",
            "=================================================================\n",
            "conv2d (Conv2D)              (None, 28, 28, 32)        320       \n",
            "_________________________________________________________________\n",
            "max_pooling2d (MaxPooling2D) (None, 14, 14, 32)        0         \n",
            "_________________________________________________________________\n",
            "conv2d_1 (Conv2D)            (None, 14, 14, 64)        18496     \n",
            "_________________________________________________________________\n",
            "max_pooling2d_1 (MaxPooling2 (None, 7, 7, 64)          0         \n",
            "_________________________________________________________________\n",
            "conv2d_2 (Conv2D)            (None, 7, 7, 128)         73856     \n",
            "_________________________________________________________________\n",
            "max_pooling2d_2 (MaxPooling2 (None, 3, 3, 128)         0         \n",
            "_________________________________________________________________\n",
            "flatten (Flatten)            (None, 1152)              0         \n",
            "_________________________________________________________________\n",
            "dense (Dense)                (None, 512)               590336    \n",
            "_________________________________________________________________\n",
            "dense_1 (Dense)              (None, 11)                5643      \n",
            "=================================================================\n",
            "Total params: 688,651\n",
            "Trainable params: 688,651\n",
            "Non-trainable params: 0\n",
            "_________________________________________________________________\n"
          ],
          "name": "stdout"
        }
      ]
    },
    {
      "cell_type": "markdown",
      "metadata": {
        "id": "i_JgrLxGID9C"
      },
      "source": [
        "##Training Conclusion\r\n",
        "Overall the model has 99% Accuracy when predicting numbers"
      ]
    },
    {
      "cell_type": "markdown",
      "metadata": {
        "id": "qBMNSL6hHAk3"
      },
      "source": [
        "# Let's Test the model"
      ]
    },
    {
      "cell_type": "code",
      "metadata": {
        "id": "_jVRqt-F9b9W"
      },
      "source": [
        "# conversion function - turns the array result to the chosen digit\r\n",
        "def testCNNModel(path,model):\r\n",
        "    im1 =cv2.imread(path,0)\r\n",
        "    im1 = cv2.resize(im1,(28,28))\r\n",
        "    t = []\r\n",
        "    t.append(im1.reshape(28,28))\r\n",
        "    t = np.asarray(t)\r\n",
        "    t = t.reshape(1,28,28,1)\r\n",
        "    res = model.predict(t)\r\n",
        "    for i in range(len(res[0])):\r\n",
        "      if res[0][i]==1:\r\n",
        "        if i == 10:\r\n",
        "          return \"Unknown\"\r\n",
        "        else:\r\n",
        "          return i\r\n",
        "    return \"None\""
      ],
      "execution_count": 104,
      "outputs": []
    },
    {
      "cell_type": "markdown",
      "metadata": {
        "id": "j2pm-zwz75cj"
      },
      "source": [
        "### Test Digit: 0"
      ]
    },
    {
      "cell_type": "code",
      "metadata": {
        "colab": {
          "base_uri": "https://localhost:8080/",
          "height": 269
        },
        "id": "cJxVcBw9FUom",
        "outputId": "c1087b67-e914-42db-a7f3-33496b142ddd"
      },
      "source": [
        "DATADIR = '/content/asl_dataset/0/hand1_0_dif_seg_1_cropped.jpeg'\r\n",
        "img_array = cv2.imread(DATADIR,cv2.IMREAD_GRAYSCALE)  \r\n",
        "plt.imshow(img_array, cmap='gray')  # graph it\r\n",
        "plt.show()  # display!"
      ],
      "execution_count": 118,
      "outputs": [
        {
          "output_type": "display_data",
          "data": {
            "image/png": "[encoded data removed]",
            "text/plain": [
              "<Figure size 432x288 with 1 Axes>"
            ]
          },
          "metadata": {
            "tags": [],
            "needs_background": "light"
          }
        }
      ]
    },
    {
      "cell_type": "code",
      "metadata": {
        "colab": {
          "base_uri": "https://localhost:8080/"
        },
        "id": "UQ_mnoLg_FeW",
        "outputId": "5b85ceba-d576-47f0-b15f-ddc3dd78a7c7"
      },
      "source": [
        "testCNNModel('/content/asl_dataset/0/hand1_0_dif_seg_1_cropped.jpeg',model)"
      ],
      "execution_count": 113,
      "outputs": [
        {
          "output_type": "execute_result",
          "data": {
            "text/plain": [
              "0"
            ]
          },
          "metadata": {
            "tags": []
          },
          "execution_count": 113
        }
      ]
    },
    {
      "cell_type": "markdown",
      "metadata": {
        "id": "IFhQ_GA37_ED"
      },
      "source": [
        "### Test Digit: 4"
      ]
    },
    {
      "cell_type": "code",
      "metadata": {
        "colab": {
          "base_uri": "https://localhost:8080/",
          "height": 269
        },
        "id": "rZNNBJiRGb2D",
        "outputId": "5fa03c13-88dc-4873-8cd6-8d92c61d19f2"
      },
      "source": [
        "DATADIR = '/content/asl_dataset/4/hand1_4_dif_seg_1_cropped.jpeg'\r\n",
        "img_array = cv2.imread(DATADIR,cv2.IMREAD_GRAYSCALE)  \r\n",
        "plt.imshow(img_array, cmap='gray')  # graph it\r\n",
        "plt.show()  # display!"
      ],
      "execution_count": 119,
      "outputs": [
        {
          "output_type": "display_data",
          "data": {
            "image/png": "[encoded data removed]",
            "text/plain": [
              "<Figure size 432x288 with 1 Axes>"
            ]
          },
          "metadata": {
            "tags": [],
            "needs_background": "light"
          }
        }
      ]
    },
    {
      "cell_type": "code",
      "metadata": {
        "colab": {
          "base_uri": "https://localhost:8080/"
        },
        "id": "8MBoImzHAmrR",
        "outputId": "04645890-1e73-46a7-9f90-30dcf993d10b"
      },
      "source": [
        "testCNNModel('/content/asl_dataset/4/hand1_4_dif_seg_1_cropped.jpeg',model)"
      ],
      "execution_count": 115,
      "outputs": [
        {
          "output_type": "execute_result",
          "data": {
            "text/plain": [
              "4"
            ]
          },
          "metadata": {
            "tags": []
          },
          "execution_count": 115
        }
      ]
    },
    {
      "cell_type": "markdown",
      "metadata": {
        "id": "PV7WBiOO8A0s"
      },
      "source": [
        "### Test Digit: 9"
      ]
    },
    {
      "cell_type": "code",
      "metadata": {
        "colab": {
          "base_uri": "https://localhost:8080/",
          "height": 269
        },
        "id": "xvzb-LMtGipn",
        "outputId": "e512b7c8-f56f-43d1-f0b2-bb1219a7c85b"
      },
      "source": [
        "DATADIR = '/content/asl_dataset/9/hand3_9_dif_seg_1_cropped.jpeg'\r\n",
        "img_array = cv2.imread(DATADIR,cv2.IMREAD_GRAYSCALE)  \r\n",
        "plt.imshow(img_array, cmap='gray')  # graph it\r\n",
        "plt.show()  # display!"
      ],
      "execution_count": 127,
      "outputs": [
        {
          "output_type": "display_data",
          "data": {
            "image/png": "[encoded data removed]",
            "text/plain": [
              "<Figure size 432x288 with 1 Axes>"
            ]
          },
          "metadata": {
            "tags": [],
            "needs_background": "light"
          }
        }
      ]
    },
    {
      "cell_type": "code",
      "metadata": {
        "colab": {
          "base_uri": "https://localhost:8080/"
        },
        "id": "SfVTN-tyC9Ys",
        "outputId": "23533c5d-6f32-45e5-a9be-675c84f84522"
      },
      "source": [
        "testCNNModel('/content/asl_dataset/9/hand3_9_dif_seg_1_cropped.jpeg',model)"
      ],
      "execution_count": 128,
      "outputs": [
        {
          "output_type": "execute_result",
          "data": {
            "text/plain": [
              "9"
            ]
          },
          "metadata": {
            "tags": []
          },
          "execution_count": 128
        }
      ]
    },
    {
      "cell_type": "markdown",
      "metadata": {
        "id": "Wh_dATLB8EBK"
      },
      "source": [
        "### Test Digit: unknown"
      ]
    },
    {
      "cell_type": "code",
      "metadata": {
        "colab": {
          "base_uri": "https://localhost:8080/",
          "height": 269
        },
        "id": "tHUMaYvqK-u2",
        "outputId": "a3d00b68-4725-42e1-8306-fcdfe5b1dc88"
      },
      "source": [
        "DATADIR = '/content/asl_dataset/unknown/hand2_h_left_seg_5_cropped.jpeg'\r\n",
        "img_array = cv2.imread(DATADIR,cv2.IMREAD_GRAYSCALE)  \r\n",
        "plt.imshow(img_array, cmap='gray')  # graph it\r\n",
        "plt.show()  # display!"
      ],
      "execution_count": 124,
      "outputs": [
        {
          "output_type": "display_data",
          "data": {
            "image/png": "[encoded data removed]",
            "text/plain": [
              "<Figure size 432x288 with 1 Axes>"
            ]
          },
          "metadata": {
            "tags": [],
            "needs_background": "light"
          }
        }
      ]
    },
    {
      "cell_type": "code",
      "metadata": {
        "colab": {
          "base_uri": "https://localhost:8080/",
          "height": 35
        },
        "id": "fLKgPZlUK-xw",
        "outputId": "578bf83e-7c34-427f-8874-3954343c8ae4"
      },
      "source": [
        "testCNNModel('/content/asl_dataset/unknown/hand2_h_left_seg_5_cropped.jpeg',model)"
      ],
      "execution_count": 125,
      "outputs": [
        {
          "output_type": "execute_result",
          "data": {
            "application/vnd.google.colaboratory.intrinsic+json": {
              "type": "string"
            },
            "text/plain": [
              "'Unknown'"
            ]
          },
          "metadata": {
            "tags": []
          },
          "execution_count": 125
        }
      ]
    },
    {
      "cell_type": "markdown",
      "metadata": {
        "id": "yiIVslAc5puR"
      },
      "source": [
        "# Last Organisation\r\n",
        "\r\n",
        "Moving files locally to my Drive...\r\n",
        "\r\n",
        "Should've set this up from the start"
      ]
    },
    {
      "cell_type": "code",
      "metadata": {
        "colab": {
          "base_uri": "https://localhost:8080/"
        },
        "id": "_6DsfiuD4Jiw",
        "outputId": "89b838e5-bec5-4f38-e56e-045bbd490623"
      },
      "source": [
        "from google.colab import drive\r\n",
        "\r\n",
        "drive.mount('/content/drive/')"
      ],
      "execution_count": 132,
      "outputs": [
        {
          "output_type": "stream",
          "text": [
            "Mounted at /content/drive/\n"
          ],
          "name": "stdout"
        }
      ]
    },
    {
      "cell_type": "code",
      "metadata": {
        "id": "tw7w8Guq5o-w"
      },
      "source": [
        "src = '/content/asl_dataset'\r\n",
        "dest = '/content/drive/MyDrive/BGN_Data/Digits_folder/Dataset'\r\n",
        "\r\n",
        "files = os.listdir(src)\r\n",
        " \r\n",
        "for f in files:\r\n",
        "    shutil.move(src+\"/\"+ f, dest)"
      ],
      "execution_count": 133,
      "outputs": []
    },
    {
      "cell_type": "markdown",
      "metadata": {
        "id": "nfKg66cl4Esl"
      },
      "source": [
        "# Save the model in the needed form - tfile"
      ]
    },
    {
      "cell_type": "code",
      "metadata": {
        "id": "VlxdTKdK4hMP"
      },
      "source": [
        "checkpoint_filepath = '/content/drive/MyDrive/BGN_Data/Digits_folder/Models/tflite'"
      ],
      "execution_count": 135,
      "outputs": []
    },
    {
      "cell_type": "code",
      "metadata": {
        "id": "7ATLMclsoynS"
      },
      "source": [
        "#model.save(\"/content/drive/MyDrive/BGN_Data/Digits_folder/Models/Other/{}.model\".format(NAME))"
      ],
      "execution_count": null,
      "outputs": []
    },
    {
      "cell_type": "code",
      "metadata": {
        "id": "LmJhKtDx4JbV"
      },
      "source": [
        "converter = tf.lite.TFLiteConverter.from_keras_model(model)\r\n",
        "tflite_model = converter.convert()\r\n",
        "open(f'{checkpoint_filepath[:-2]}tflite', 'wb').write(tflite_model)"
      ],
      "execution_count": null,
      "outputs": []
    }
  ]
}